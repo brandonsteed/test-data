{
 "cells": [
  {
   "cell_type": "code",
   "execution_count": 1,
   "metadata": {},
   "outputs": [],
   "source": [
    "import numpy as np\n",
    "import pandas as pd\n",
    "import matplotlib.pyplot as plt\n",
    "%matplotlib inline\n",
    "import seaborn as sns"
   ]
  },
  {
   "cell_type": "code",
   "execution_count": 2,
   "metadata": {},
   "outputs": [],
   "source": [
    "df = pd.read_csv('exams.csv')"
   ]
  },
  {
   "cell_type": "code",
   "execution_count": 3,
   "metadata": {},
   "outputs": [
    {
     "data": {
      "text/plain": [
       "(10000, 8)"
      ]
     },
     "execution_count": 3,
     "metadata": {},
     "output_type": "execute_result"
    }
   ],
   "source": [
    "df.shape"
   ]
  },
  {
   "cell_type": "code",
   "execution_count": 4,
   "metadata": {},
   "outputs": [
    {
     "data": {
      "text/html": [
       "<div>\n",
       "<style scoped>\n",
       "    .dataframe tbody tr th:only-of-type {\n",
       "        vertical-align: middle;\n",
       "    }\n",
       "\n",
       "    .dataframe tbody tr th {\n",
       "        vertical-align: top;\n",
       "    }\n",
       "\n",
       "    .dataframe thead th {\n",
       "        text-align: right;\n",
       "    }\n",
       "</style>\n",
       "<table border=\"1\" class=\"dataframe\">\n",
       "  <thead>\n",
       "    <tr style=\"text-align: right;\">\n",
       "      <th></th>\n",
       "      <th>gender</th>\n",
       "      <th>race/ethnicity</th>\n",
       "      <th>parental level of education</th>\n",
       "      <th>lunch</th>\n",
       "      <th>test preparation course</th>\n",
       "      <th>math score</th>\n",
       "      <th>reading score</th>\n",
       "      <th>writing score</th>\n",
       "    </tr>\n",
       "  </thead>\n",
       "  <tbody>\n",
       "    <tr>\n",
       "      <th>0</th>\n",
       "      <td>female</td>\n",
       "      <td>group C</td>\n",
       "      <td>some college</td>\n",
       "      <td>standard</td>\n",
       "      <td>completed</td>\n",
       "      <td>82</td>\n",
       "      <td>91</td>\n",
       "      <td>90</td>\n",
       "    </tr>\n",
       "    <tr>\n",
       "      <th>1</th>\n",
       "      <td>female</td>\n",
       "      <td>group D</td>\n",
       "      <td>associate's degree</td>\n",
       "      <td>standard</td>\n",
       "      <td>none</td>\n",
       "      <td>69</td>\n",
       "      <td>69</td>\n",
       "      <td>75</td>\n",
       "    </tr>\n",
       "    <tr>\n",
       "      <th>2</th>\n",
       "      <td>female</td>\n",
       "      <td>group A</td>\n",
       "      <td>bachelor's degree</td>\n",
       "      <td>standard</td>\n",
       "      <td>completed</td>\n",
       "      <td>72</td>\n",
       "      <td>77</td>\n",
       "      <td>82</td>\n",
       "    </tr>\n",
       "    <tr>\n",
       "      <th>3</th>\n",
       "      <td>female</td>\n",
       "      <td>group C</td>\n",
       "      <td>master's degree</td>\n",
       "      <td>standard</td>\n",
       "      <td>none</td>\n",
       "      <td>59</td>\n",
       "      <td>78</td>\n",
       "      <td>73</td>\n",
       "    </tr>\n",
       "    <tr>\n",
       "      <th>4</th>\n",
       "      <td>male</td>\n",
       "      <td>group C</td>\n",
       "      <td>high school</td>\n",
       "      <td>standard</td>\n",
       "      <td>completed</td>\n",
       "      <td>64</td>\n",
       "      <td>61</td>\n",
       "      <td>54</td>\n",
       "    </tr>\n",
       "  </tbody>\n",
       "</table>\n",
       "</div>"
      ],
      "text/plain": [
       "   gender race/ethnicity parental level of education     lunch  \\\n",
       "0  female        group C                some college  standard   \n",
       "1  female        group D          associate's degree  standard   \n",
       "2  female        group A           bachelor's degree  standard   \n",
       "3  female        group C             master's degree  standard   \n",
       "4    male        group C                 high school  standard   \n",
       "\n",
       "  test preparation course  math score  reading score  writing score  \n",
       "0               completed          82             91             90  \n",
       "1                    none          69             69             75  \n",
       "2               completed          72             77             82  \n",
       "3                    none          59             78             73  \n",
       "4               completed          64             61             54  "
      ]
     },
     "execution_count": 4,
     "metadata": {},
     "output_type": "execute_result"
    }
   ],
   "source": [
    "df.head()"
   ]
  },
  {
   "cell_type": "code",
   "execution_count": 5,
   "metadata": {},
   "outputs": [],
   "source": [
    "dff = df"
   ]
  },
  {
   "cell_type": "code",
   "execution_count": 6,
   "metadata": {},
   "outputs": [],
   "source": [
    "dff = dff.rename({'race/ethnicity':'race', 'parental level of education':'parent_edu', 'lunch':'fr_lunch',\n",
    "            'test preparation course':'test_prep', 'math score':'math', 'reading score':'reading',\n",
    "            'writing score':'writing'}, axis='columns')\n",
    "dff.gender = np.where(dff.gender == 'female', 0, 1)\n",
    "dff.test_prep = np.where(dff.test_prep == 'completed', 1, 0)\n",
    "dff.fr_lunch = np.where(dff.fr_lunch == 'standard', 0, 1)"
   ]
  },
  {
   "cell_type": "code",
   "execution_count": 7,
   "metadata": {},
   "outputs": [
    {
     "name": "stdout",
     "output_type": "stream",
     "text": [
      "Races/Ethnicities\n",
      "['group C' 'group D' 'group A' 'group B' 'group E']\n",
      "\n",
      "Education Levels\n",
      "['some college' \"associate's degree\" \"bachelor's degree\" \"master's degree\"\n",
      " 'high school' 'some high school']\n"
     ]
    }
   ],
   "source": [
    "print('Races/Ethnicities')\n",
    "print(dff.race.unique())\n",
    "print('\\nEducation Levels')\n",
    "print(dff.parent_edu.unique())"
   ]
  },
  {
   "cell_type": "code",
   "execution_count": 8,
   "metadata": {},
   "outputs": [],
   "source": [
    "dff = dff.replace({'race' : {'group A':1, 'group B':2, 'group C':3, 'group D':4, 'group E':5}})\n",
    "dff = dff.replace({'parent_edu' : {'some high school':1, 'high school':2, 'some college':3,\n",
    "                                   'associate\\'s degree':4, 'bachelor\\'s degree':5,\n",
    "                                   'master\\'s degree': 6}})"
   ]
  },
  {
   "cell_type": "code",
   "execution_count": 9,
   "metadata": {},
   "outputs": [
    {
     "data": {
      "text/html": [
       "<div>\n",
       "<style scoped>\n",
       "    .dataframe tbody tr th:only-of-type {\n",
       "        vertical-align: middle;\n",
       "    }\n",
       "\n",
       "    .dataframe tbody tr th {\n",
       "        vertical-align: top;\n",
       "    }\n",
       "\n",
       "    .dataframe thead th {\n",
       "        text-align: right;\n",
       "    }\n",
       "</style>\n",
       "<table border=\"1\" class=\"dataframe\">\n",
       "  <thead>\n",
       "    <tr style=\"text-align: right;\">\n",
       "      <th></th>\n",
       "      <th>gender</th>\n",
       "      <th>race</th>\n",
       "      <th>parent_edu</th>\n",
       "      <th>fr_lunch</th>\n",
       "      <th>test_prep</th>\n",
       "      <th>math</th>\n",
       "      <th>reading</th>\n",
       "      <th>writing</th>\n",
       "    </tr>\n",
       "  </thead>\n",
       "  <tbody>\n",
       "    <tr>\n",
       "      <th>0</th>\n",
       "      <td>0</td>\n",
       "      <td>3</td>\n",
       "      <td>3</td>\n",
       "      <td>0</td>\n",
       "      <td>1</td>\n",
       "      <td>82</td>\n",
       "      <td>91</td>\n",
       "      <td>90</td>\n",
       "    </tr>\n",
       "    <tr>\n",
       "      <th>1</th>\n",
       "      <td>0</td>\n",
       "      <td>4</td>\n",
       "      <td>4</td>\n",
       "      <td>0</td>\n",
       "      <td>0</td>\n",
       "      <td>69</td>\n",
       "      <td>69</td>\n",
       "      <td>75</td>\n",
       "    </tr>\n",
       "    <tr>\n",
       "      <th>2</th>\n",
       "      <td>0</td>\n",
       "      <td>1</td>\n",
       "      <td>5</td>\n",
       "      <td>0</td>\n",
       "      <td>1</td>\n",
       "      <td>72</td>\n",
       "      <td>77</td>\n",
       "      <td>82</td>\n",
       "    </tr>\n",
       "    <tr>\n",
       "      <th>3</th>\n",
       "      <td>0</td>\n",
       "      <td>3</td>\n",
       "      <td>6</td>\n",
       "      <td>0</td>\n",
       "      <td>0</td>\n",
       "      <td>59</td>\n",
       "      <td>78</td>\n",
       "      <td>73</td>\n",
       "    </tr>\n",
       "    <tr>\n",
       "      <th>4</th>\n",
       "      <td>1</td>\n",
       "      <td>3</td>\n",
       "      <td>2</td>\n",
       "      <td>0</td>\n",
       "      <td>1</td>\n",
       "      <td>64</td>\n",
       "      <td>61</td>\n",
       "      <td>54</td>\n",
       "    </tr>\n",
       "  </tbody>\n",
       "</table>\n",
       "</div>"
      ],
      "text/plain": [
       "   gender  race  parent_edu  fr_lunch  test_prep  math  reading  writing\n",
       "0       0     3           3         0          1    82       91       90\n",
       "1       0     4           4         0          0    69       69       75\n",
       "2       0     1           5         0          1    72       77       82\n",
       "3       0     3           6         0          0    59       78       73\n",
       "4       1     3           2         0          1    64       61       54"
      ]
     },
     "execution_count": 9,
     "metadata": {},
     "output_type": "execute_result"
    }
   ],
   "source": [
    "dff.head()"
   ]
  },
  {
   "cell_type": "code",
   "execution_count": 12,
   "metadata": {},
   "outputs": [
    {
     "data": {
      "text/html": [
       "<div>\n",
       "<style scoped>\n",
       "    .dataframe tbody tr th:only-of-type {\n",
       "        vertical-align: middle;\n",
       "    }\n",
       "\n",
       "    .dataframe tbody tr th {\n",
       "        vertical-align: top;\n",
       "    }\n",
       "\n",
       "    .dataframe thead th {\n",
       "        text-align: right;\n",
       "    }\n",
       "</style>\n",
       "<table border=\"1\" class=\"dataframe\">\n",
       "  <thead>\n",
       "    <tr style=\"text-align: right;\">\n",
       "      <th></th>\n",
       "      <th>gender</th>\n",
       "      <th>race</th>\n",
       "      <th>parent_edu</th>\n",
       "      <th>fr_lunch</th>\n",
       "      <th>test_prep</th>\n",
       "      <th>math</th>\n",
       "      <th>reading</th>\n",
       "      <th>writing</th>\n",
       "    </tr>\n",
       "  </thead>\n",
       "  <tbody>\n",
       "    <tr>\n",
       "      <th>gender</th>\n",
       "      <td>1.000000</td>\n",
       "      <td>-0.000051</td>\n",
       "      <td>0.008840</td>\n",
       "      <td>-0.006814</td>\n",
       "      <td>-0.009507</td>\n",
       "      <td>0.159589</td>\n",
       "      <td>-0.239161</td>\n",
       "      <td>-0.294359</td>\n",
       "    </tr>\n",
       "    <tr>\n",
       "      <th>race</th>\n",
       "      <td>-0.000051</td>\n",
       "      <td>1.000000</td>\n",
       "      <td>0.010542</td>\n",
       "      <td>0.001722</td>\n",
       "      <td>-0.001862</td>\n",
       "      <td>0.214578</td>\n",
       "      <td>0.137100</td>\n",
       "      <td>0.152513</td>\n",
       "    </tr>\n",
       "    <tr>\n",
       "      <th>parent_edu</th>\n",
       "      <td>0.008840</td>\n",
       "      <td>0.010542</td>\n",
       "      <td>1.000000</td>\n",
       "      <td>-0.007483</td>\n",
       "      <td>-0.007229</td>\n",
       "      <td>0.201492</td>\n",
       "      <td>0.193322</td>\n",
       "      <td>0.227020</td>\n",
       "    </tr>\n",
       "    <tr>\n",
       "      <th>fr_lunch</th>\n",
       "      <td>-0.006814</td>\n",
       "      <td>0.001722</td>\n",
       "      <td>-0.007483</td>\n",
       "      <td>1.000000</td>\n",
       "      <td>-0.002657</td>\n",
       "      <td>-0.385709</td>\n",
       "      <td>-0.272220</td>\n",
       "      <td>-0.288999</td>\n",
       "    </tr>\n",
       "    <tr>\n",
       "      <th>test_prep</th>\n",
       "      <td>-0.009507</td>\n",
       "      <td>-0.001862</td>\n",
       "      <td>-0.007229</td>\n",
       "      <td>-0.002657</td>\n",
       "      <td>1.000000</td>\n",
       "      <td>0.147303</td>\n",
       "      <td>0.219303</td>\n",
       "      <td>0.301842</td>\n",
       "    </tr>\n",
       "    <tr>\n",
       "      <th>math</th>\n",
       "      <td>0.159589</td>\n",
       "      <td>0.214578</td>\n",
       "      <td>0.201492</td>\n",
       "      <td>-0.385709</td>\n",
       "      <td>0.147303</td>\n",
       "      <td>1.000000</td>\n",
       "      <td>0.819805</td>\n",
       "      <td>0.808001</td>\n",
       "    </tr>\n",
       "    <tr>\n",
       "      <th>reading</th>\n",
       "      <td>-0.239161</td>\n",
       "      <td>0.137100</td>\n",
       "      <td>0.193322</td>\n",
       "      <td>-0.272220</td>\n",
       "      <td>0.219303</td>\n",
       "      <td>0.819805</td>\n",
       "      <td>1.000000</td>\n",
       "      <td>0.953011</td>\n",
       "    </tr>\n",
       "    <tr>\n",
       "      <th>writing</th>\n",
       "      <td>-0.294359</td>\n",
       "      <td>0.152513</td>\n",
       "      <td>0.227020</td>\n",
       "      <td>-0.288999</td>\n",
       "      <td>0.301842</td>\n",
       "      <td>0.808001</td>\n",
       "      <td>0.953011</td>\n",
       "      <td>1.000000</td>\n",
       "    </tr>\n",
       "  </tbody>\n",
       "</table>\n",
       "</div>"
      ],
      "text/plain": [
       "              gender      race  parent_edu  fr_lunch  test_prep      math  \\\n",
       "gender      1.000000 -0.000051    0.008840 -0.006814  -0.009507  0.159589   \n",
       "race       -0.000051  1.000000    0.010542  0.001722  -0.001862  0.214578   \n",
       "parent_edu  0.008840  0.010542    1.000000 -0.007483  -0.007229  0.201492   \n",
       "fr_lunch   -0.006814  0.001722   -0.007483  1.000000  -0.002657 -0.385709   \n",
       "test_prep  -0.009507 -0.001862   -0.007229 -0.002657   1.000000  0.147303   \n",
       "math        0.159589  0.214578    0.201492 -0.385709   0.147303  1.000000   \n",
       "reading    -0.239161  0.137100    0.193322 -0.272220   0.219303  0.819805   \n",
       "writing    -0.294359  0.152513    0.227020 -0.288999   0.301842  0.808001   \n",
       "\n",
       "             reading   writing  \n",
       "gender     -0.239161 -0.294359  \n",
       "race        0.137100  0.152513  \n",
       "parent_edu  0.193322  0.227020  \n",
       "fr_lunch   -0.272220 -0.288999  \n",
       "test_prep   0.219303  0.301842  \n",
       "math        0.819805  0.808001  \n",
       "reading     1.000000  0.953011  \n",
       "writing     0.953011  1.000000  "
      ]
     },
     "execution_count": 12,
     "metadata": {},
     "output_type": "execute_result"
    }
   ],
   "source": [
    "dff.corr()"
   ]
  },
  {
   "cell_type": "code",
   "execution_count": 11,
   "metadata": {},
   "outputs": [
    {
     "data": {
      "text/plain": [
       "<matplotlib.axes._subplots.AxesSubplot at 0x7ffae9096160>"
      ]
     },
     "execution_count": 11,
     "metadata": {},
     "output_type": "execute_result"
    },
    {
     "data": {
      "image/png": "[encoded data removed]",
      "text/plain": [
       "<Figure size 864x864 with 2 Axes>"
      ]
     },
     "metadata": {
      "needs_background": "light"
     },
     "output_type": "display_data"
    }
   ],
   "source": [
    "plt.figure(figsize=(12,12))\n",
    "sns.heatmap(dff.corr())"
   ]
  },
  {
   "cell_type": "code",
   "execution_count": null,
   "metadata": {},
   "outputs": [],
   "source": []
  }
 ],
 "metadata": {
  "kernelspec": {
   "display_name": "Python 3",
   "language": "python",
   "name": "python3"
  },
  "language_info": {
   "codemirror_mode": {
    "name": "ipython",
    "version": 3
   },
   "file_extension": ".py",
   "mimetype": "text/x-python",
   "name": "python",
   "nbconvert_exporter": "python",
   "pygments_lexer": "ipython3",
   "version": "3.7.2"
  }
 },
 "nbformat": 4,
 "nbformat_minor": 2
}
