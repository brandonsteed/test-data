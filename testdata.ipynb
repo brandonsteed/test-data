{
 "cells": [
  {
   "cell_type": "markdown",
   "metadata": {},
   "source": [
    "# Analyzing Test Data\n",
    "\n",
    "The purpose of this analysis is to demonstrate how data can be used to determine which students are at risk of low test scores.  Potentially those students identified as at risk in the future could receive additional support to help those students acheive higher test scores.\n",
    "\n",
    "The dataset used in this analysis was obtained from Kaggle.  All data is anonymous and has been stripped on any identifiers.  The source of the data was not revealed."
   ]
  },
  {
   "cell_type": "code",
   "execution_count": 1,
   "metadata": {},
   "outputs": [
    {
     "name": "stderr",
     "output_type": "stream",
     "text": [
      "/home/brandon/anaconda3/lib/python3.7/site-packages/sklearn/ensemble/weight_boosting.py:29: DeprecationWarning: numpy.core.umath_tests is an internal NumPy module and should not be imported. It will be removed in a future NumPy release.\n",
      "  from numpy.core.umath_tests import inner1d\n"
     ]
    }
   ],
   "source": [
    "import warnings\n",
    "warnings.filterwarnings(\"ignore\")\n",
    "import numpy as np\n",
    "import pandas as pd\n",
    "import matplotlib.pyplot as plt\n",
    "%matplotlib inline\n",
    "import seaborn as sns\n",
    "from sklearn import linear_model\n",
    "from sklearn import ensemble\n",
    "from sklearn.model_selection import KFold\n",
    "from sklearn.model_selection import train_test_split\n",
    "import time\n",
    "import matplotlib.patches as mpatches"
   ]
  },
  {
   "cell_type": "code",
   "execution_count": 2,
   "metadata": {},
   "outputs": [],
   "source": [
    "df = pd.read_csv('exams.csv')"
   ]
  },
  {
   "cell_type": "code",
   "execution_count": 3,
   "metadata": {},
   "outputs": [
    {
     "data": {
      "text/plain": [
       "(10000, 8)"
      ]
     },
     "execution_count": 3,
     "metadata": {},
     "output_type": "execute_result"
    }
   ],
   "source": [
    "df.shape"
   ]
  },
  {
   "cell_type": "code",
   "execution_count": 4,
   "metadata": {},
   "outputs": [
    {
     "data": {
      "text/html": [
       "<div>\n",
       "<style scoped>\n",
       "    .dataframe tbody tr th:only-of-type {\n",
       "        vertical-align: middle;\n",
       "    }\n",
       "\n",
       "    .dataframe tbody tr th {\n",
       "        vertical-align: top;\n",
       "    }\n",
       "\n",
       "    .dataframe thead th {\n",
       "        text-align: right;\n",
       "    }\n",
       "</style>\n",
       "<table border=\"1\" class=\"dataframe\">\n",
       "  <thead>\n",
       "    <tr style=\"text-align: right;\">\n",
       "      <th></th>\n",
       "      <th>gender</th>\n",
       "      <th>race/ethnicity</th>\n",
       "      <th>parental level of education</th>\n",
       "      <th>lunch</th>\n",
       "      <th>test preparation course</th>\n",
       "      <th>math score</th>\n",
       "      <th>reading score</th>\n",
       "      <th>writing score</th>\n",
       "    </tr>\n",
       "  </thead>\n",
       "  <tbody>\n",
       "    <tr>\n",
       "      <th>0</th>\n",
       "      <td>female</td>\n",
       "      <td>group C</td>\n",
       "      <td>some college</td>\n",
       "      <td>standard</td>\n",
       "      <td>completed</td>\n",
       "      <td>82</td>\n",
       "      <td>91</td>\n",
       "      <td>90</td>\n",
       "    </tr>\n",
       "    <tr>\n",
       "      <th>1</th>\n",
       "      <td>female</td>\n",
       "      <td>group D</td>\n",
       "      <td>associate's degree</td>\n",
       "      <td>standard</td>\n",
       "      <td>none</td>\n",
       "      <td>69</td>\n",
       "      <td>69</td>\n",
       "      <td>75</td>\n",
       "    </tr>\n",
       "    <tr>\n",
       "      <th>2</th>\n",
       "      <td>female</td>\n",
       "      <td>group A</td>\n",
       "      <td>bachelor's degree</td>\n",
       "      <td>standard</td>\n",
       "      <td>completed</td>\n",
       "      <td>72</td>\n",
       "      <td>77</td>\n",
       "      <td>82</td>\n",
       "    </tr>\n",
       "    <tr>\n",
       "      <th>3</th>\n",
       "      <td>female</td>\n",
       "      <td>group C</td>\n",
       "      <td>master's degree</td>\n",
       "      <td>standard</td>\n",
       "      <td>none</td>\n",
       "      <td>59</td>\n",
       "      <td>78</td>\n",
       "      <td>73</td>\n",
       "    </tr>\n",
       "    <tr>\n",
       "      <th>4</th>\n",
       "      <td>male</td>\n",
       "      <td>group C</td>\n",
       "      <td>high school</td>\n",
       "      <td>standard</td>\n",
       "      <td>completed</td>\n",
       "      <td>64</td>\n",
       "      <td>61</td>\n",
       "      <td>54</td>\n",
       "    </tr>\n",
       "  </tbody>\n",
       "</table>\n",
       "</div>"
      ],
      "text/plain": [
       "   gender race/ethnicity parental level of education     lunch  \\\n",
       "0  female        group C                some college  standard   \n",
       "1  female        group D          associate's degree  standard   \n",
       "2  female        group A           bachelor's degree  standard   \n",
       "3  female        group C             master's degree  standard   \n",
       "4    male        group C                 high school  standard   \n",
       "\n",
       "  test preparation course  math score  reading score  writing score  \n",
       "0               completed          82             91             90  \n",
       "1                    none          69             69             75  \n",
       "2               completed          72             77             82  \n",
       "3                    none          59             78             73  \n",
       "4               completed          64             61             54  "
      ]
     },
     "execution_count": 4,
     "metadata": {},
     "output_type": "execute_result"
    }
   ],
   "source": [
    "df.head()"
   ]
  },
  {
   "cell_type": "code",
   "execution_count": 5,
   "metadata": {},
   "outputs": [],
   "source": [
    "dff = df"
   ]
  },
  {
   "cell_type": "code",
   "execution_count": 6,
   "metadata": {},
   "outputs": [],
   "source": [
    "dff = dff.rename({'race/ethnicity':'race', 'parental level of education':'parent_edu', 'lunch':'fr_lunch',\n",
    "            'test preparation course':'test_prep', 'math score':'math', 'reading score':'reading',\n",
    "            'writing score':'writing'}, axis='columns')\n",
    "dff.gender = np.where(dff.gender == 'female', 0, 1)\n",
    "dff.test_prep = np.where(dff.test_prep == 'completed', 1, 0)\n",
    "dff.fr_lunch = np.where(dff.fr_lunch == 'standard', 0, 1)"
   ]
  },
  {
   "cell_type": "code",
   "execution_count": 7,
   "metadata": {},
   "outputs": [
    {
     "name": "stdout",
     "output_type": "stream",
     "text": [
      "Races/Ethnicities\n",
      "['group C' 'group D' 'group A' 'group B' 'group E']\n",
      "\n",
      "Education Levels\n",
      "['some college' \"associate's degree\" \"bachelor's degree\" \"master's degree\"\n",
      " 'high school' 'some high school']\n"
     ]
    }
   ],
   "source": [
    "print('Races/Ethnicities')\n",
    "print(dff.race.unique())\n",
    "print('\\nEducation Levels')\n",
    "print(dff.parent_edu.unique())"
   ]
  },
  {
   "cell_type": "code",
   "execution_count": 8,
   "metadata": {},
   "outputs": [],
   "source": [
    "dff = dff.replace({'parent_edu' : {'some high school':1, 'high school':2, 'some college':3,\n",
    "                                   'associate\\'s degree':4, 'bachelor\\'s degree':5,\n",
    "                                   'master\\'s degree': 6}})"
   ]
  },
  {
   "cell_type": "markdown",
   "metadata": {},
   "source": [
    "## Math Score Distributions by Race/Ethnicity Group"
   ]
  },
  {
   "cell_type": "code",
   "execution_count": 9,
   "metadata": {},
   "outputs": [
    {
     "data": {
      "image/png": "[encoded data removed]",
      "text/plain": [
       "<Figure size 720x432 with 1 Axes>"
      ]
     },
     "metadata": {
      "needs_background": "light"
     },
     "output_type": "display_data"
    }
   ],
   "source": [
    "plt.figure(figsize=(10, 6))\n",
    "sns.boxplot(x='math', y='race', data=dff, palette='PRGn', order=['group A', 'group B', 'group C',\n",
    "                                                                'group D', 'group E'])\n",
    "plt.title('Math Score Distribution by Group', size=20)\n",
    "plt.xlabel('Math Score', size=16)\n",
    "plt.ylabel('Group', size=16)\n",
    "plt.show()"
   ]
  },
  {
   "cell_type": "code",
   "execution_count": 10,
   "metadata": {},
   "outputs": [],
   "source": [
    "#Creating new variables from race/ethnicity groups\n",
    "\n",
    "dff = dff.replace({'race' : {'group A':'A', 'group B':'B', 'group C':'C', 'group D':'D', 'group E':'E'}})\n",
    "new_variable = pd.get_dummies(dff['race'], prefix='group')\n",
    "dff = dff.join(new_variable)\n",
    "dff = dff.drop(['race'], axis=1)"
   ]
  },
  {
   "cell_type": "code",
   "execution_count": 11,
   "metadata": {},
   "outputs": [
    {
     "data": {
      "text/html": [
       "<div>\n",
       "<style scoped>\n",
       "    .dataframe tbody tr th:only-of-type {\n",
       "        vertical-align: middle;\n",
       "    }\n",
       "\n",
       "    .dataframe tbody tr th {\n",
       "        vertical-align: top;\n",
       "    }\n",
       "\n",
       "    .dataframe thead th {\n",
       "        text-align: right;\n",
       "    }\n",
       "</style>\n",
       "<table border=\"1\" class=\"dataframe\">\n",
       "  <thead>\n",
       "    <tr style=\"text-align: right;\">\n",
       "      <th></th>\n",
       "      <th>gender</th>\n",
       "      <th>parent_edu</th>\n",
       "      <th>fr_lunch</th>\n",
       "      <th>test_prep</th>\n",
       "      <th>math</th>\n",
       "      <th>reading</th>\n",
       "      <th>writing</th>\n",
       "      <th>group_A</th>\n",
       "      <th>group_B</th>\n",
       "      <th>group_C</th>\n",
       "      <th>group_D</th>\n",
       "      <th>group_E</th>\n",
       "    </tr>\n",
       "  </thead>\n",
       "  <tbody>\n",
       "    <tr>\n",
       "      <th>0</th>\n",
       "      <td>0</td>\n",
       "      <td>3</td>\n",
       "      <td>0</td>\n",
       "      <td>1</td>\n",
       "      <td>82</td>\n",
       "      <td>91</td>\n",
       "      <td>90</td>\n",
       "      <td>0</td>\n",
       "      <td>0</td>\n",
       "      <td>1</td>\n",
       "      <td>0</td>\n",
       "      <td>0</td>\n",
       "    </tr>\n",
       "    <tr>\n",
       "      <th>1</th>\n",
       "      <td>0</td>\n",
       "      <td>4</td>\n",
       "      <td>0</td>\n",
       "      <td>0</td>\n",
       "      <td>69</td>\n",
       "      <td>69</td>\n",
       "      <td>75</td>\n",
       "      <td>0</td>\n",
       "      <td>0</td>\n",
       "      <td>0</td>\n",
       "      <td>1</td>\n",
       "      <td>0</td>\n",
       "    </tr>\n",
       "    <tr>\n",
       "      <th>2</th>\n",
       "      <td>0</td>\n",
       "      <td>5</td>\n",
       "      <td>0</td>\n",
       "      <td>1</td>\n",
       "      <td>72</td>\n",
       "      <td>77</td>\n",
       "      <td>82</td>\n",
       "      <td>1</td>\n",
       "      <td>0</td>\n",
       "      <td>0</td>\n",
       "      <td>0</td>\n",
       "      <td>0</td>\n",
       "    </tr>\n",
       "    <tr>\n",
       "      <th>3</th>\n",
       "      <td>0</td>\n",
       "      <td>6</td>\n",
       "      <td>0</td>\n",
       "      <td>0</td>\n",
       "      <td>59</td>\n",
       "      <td>78</td>\n",
       "      <td>73</td>\n",
       "      <td>0</td>\n",
       "      <td>0</td>\n",
       "      <td>1</td>\n",
       "      <td>0</td>\n",
       "      <td>0</td>\n",
       "    </tr>\n",
       "    <tr>\n",
       "      <th>4</th>\n",
       "      <td>1</td>\n",
       "      <td>2</td>\n",
       "      <td>0</td>\n",
       "      <td>1</td>\n",
       "      <td>64</td>\n",
       "      <td>61</td>\n",
       "      <td>54</td>\n",
       "      <td>0</td>\n",
       "      <td>0</td>\n",
       "      <td>1</td>\n",
       "      <td>0</td>\n",
       "      <td>0</td>\n",
       "    </tr>\n",
       "  </tbody>\n",
       "</table>\n",
       "</div>"
      ],
      "text/plain": [
       "   gender  parent_edu  fr_lunch  test_prep  math  reading  writing  group_A  \\\n",
       "0       0           3         0          1    82       91       90        0   \n",
       "1       0           4         0          0    69       69       75        0   \n",
       "2       0           5         0          1    72       77       82        1   \n",
       "3       0           6         0          0    59       78       73        0   \n",
       "4       1           2         0          1    64       61       54        0   \n",
       "\n",
       "   group_B  group_C  group_D  group_E  \n",
       "0        0        1        0        0  \n",
       "1        0        0        1        0  \n",
       "2        0        0        0        0  \n",
       "3        0        1        0        0  \n",
       "4        0        1        0        0  "
      ]
     },
     "execution_count": 11,
     "metadata": {},
     "output_type": "execute_result"
    }
   ],
   "source": [
    "dff.head()"
   ]
  },
  {
   "cell_type": "markdown",
   "metadata": {},
   "source": [
    "This dataset is very clean.  All the values seem to be reasonable and there are no null values."
   ]
  },
  {
   "cell_type": "markdown",
   "metadata": {},
   "source": [
    "## Correlation Between Variables"
   ]
  },
  {
   "cell_type": "code",
   "execution_count": 12,
   "metadata": {},
   "outputs": [
    {
     "data": {
      "text/html": [
       "<div>\n",
       "<style scoped>\n",
       "    .dataframe tbody tr th:only-of-type {\n",
       "        vertical-align: middle;\n",
       "    }\n",
       "\n",
       "    .dataframe tbody tr th {\n",
       "        vertical-align: top;\n",
       "    }\n",
       "\n",
       "    .dataframe thead th {\n",
       "        text-align: right;\n",
       "    }\n",
       "</style>\n",
       "<table border=\"1\" class=\"dataframe\">\n",
       "  <thead>\n",
       "    <tr style=\"text-align: right;\">\n",
       "      <th></th>\n",
       "      <th>gender</th>\n",
       "      <th>parent_edu</th>\n",
       "      <th>fr_lunch</th>\n",
       "      <th>test_prep</th>\n",
       "      <th>math</th>\n",
       "      <th>reading</th>\n",
       "      <th>writing</th>\n",
       "      <th>group_A</th>\n",
       "      <th>group_B</th>\n",
       "      <th>group_C</th>\n",
       "      <th>group_D</th>\n",
       "      <th>group_E</th>\n",
       "    </tr>\n",
       "  </thead>\n",
       "  <tbody>\n",
       "    <tr>\n",
       "      <th>gender</th>\n",
       "      <td>1.000000</td>\n",
       "      <td>0.008840</td>\n",
       "      <td>-0.006814</td>\n",
       "      <td>-0.009507</td>\n",
       "      <td>0.159589</td>\n",
       "      <td>-0.239161</td>\n",
       "      <td>-0.294359</td>\n",
       "      <td>-0.009416</td>\n",
       "      <td>-0.000840</td>\n",
       "      <td>0.011448</td>\n",
       "      <td>0.000938</td>\n",
       "      <td>-0.008203</td>\n",
       "    </tr>\n",
       "    <tr>\n",
       "      <th>parent_edu</th>\n",
       "      <td>0.008840</td>\n",
       "      <td>1.000000</td>\n",
       "      <td>-0.007483</td>\n",
       "      <td>-0.007229</td>\n",
       "      <td>0.201492</td>\n",
       "      <td>0.193322</td>\n",
       "      <td>0.227020</td>\n",
       "      <td>-0.015085</td>\n",
       "      <td>-0.005141</td>\n",
       "      <td>0.004311</td>\n",
       "      <td>0.014033</td>\n",
       "      <td>-0.005817</td>\n",
       "    </tr>\n",
       "    <tr>\n",
       "      <th>fr_lunch</th>\n",
       "      <td>-0.006814</td>\n",
       "      <td>-0.007483</td>\n",
       "      <td>1.000000</td>\n",
       "      <td>-0.002657</td>\n",
       "      <td>-0.385709</td>\n",
       "      <td>-0.272220</td>\n",
       "      <td>-0.288999</td>\n",
       "      <td>-0.008583</td>\n",
       "      <td>0.000390</td>\n",
       "      <td>0.009407</td>\n",
       "      <td>-0.004848</td>\n",
       "      <td>-0.000393</td>\n",
       "    </tr>\n",
       "    <tr>\n",
       "      <th>test_prep</th>\n",
       "      <td>-0.009507</td>\n",
       "      <td>-0.007229</td>\n",
       "      <td>-0.002657</td>\n",
       "      <td>1.000000</td>\n",
       "      <td>0.147303</td>\n",
       "      <td>0.219303</td>\n",
       "      <td>0.301842</td>\n",
       "      <td>-0.006222</td>\n",
       "      <td>0.005398</td>\n",
       "      <td>-0.004589</td>\n",
       "      <td>0.014522</td>\n",
       "      <td>-0.013566</td>\n",
       "    </tr>\n",
       "    <tr>\n",
       "      <th>math</th>\n",
       "      <td>0.159589</td>\n",
       "      <td>0.201492</td>\n",
       "      <td>-0.385709</td>\n",
       "      <td>0.147303</td>\n",
       "      <td>1.000000</td>\n",
       "      <td>0.819805</td>\n",
       "      <td>0.808001</td>\n",
       "      <td>-0.060994</td>\n",
       "      <td>-0.094037</td>\n",
       "      <td>-0.088955</td>\n",
       "      <td>0.036528</td>\n",
       "      <td>0.226490</td>\n",
       "    </tr>\n",
       "    <tr>\n",
       "      <th>reading</th>\n",
       "      <td>-0.239161</td>\n",
       "      <td>0.193322</td>\n",
       "      <td>-0.272220</td>\n",
       "      <td>0.219303</td>\n",
       "      <td>0.819805</td>\n",
       "      <td>1.000000</td>\n",
       "      <td>0.953011</td>\n",
       "      <td>-0.040382</td>\n",
       "      <td>-0.069419</td>\n",
       "      <td>-0.051896</td>\n",
       "      <td>0.042453</td>\n",
       "      <td>0.126390</td>\n",
       "    </tr>\n",
       "    <tr>\n",
       "      <th>writing</th>\n",
       "      <td>-0.294359</td>\n",
       "      <td>0.227020</td>\n",
       "      <td>-0.288999</td>\n",
       "      <td>0.301842</td>\n",
       "      <td>0.808001</td>\n",
       "      <td>0.953011</td>\n",
       "      <td>1.000000</td>\n",
       "      <td>-0.047323</td>\n",
       "      <td>-0.082608</td>\n",
       "      <td>-0.071706</td>\n",
       "      <td>0.097798</td>\n",
       "      <td>0.104326</td>\n",
       "    </tr>\n",
       "    <tr>\n",
       "      <th>group_A</th>\n",
       "      <td>-0.009416</td>\n",
       "      <td>-0.015085</td>\n",
       "      <td>-0.008583</td>\n",
       "      <td>-0.006222</td>\n",
       "      <td>-0.060994</td>\n",
       "      <td>-0.040382</td>\n",
       "      <td>-0.047323</td>\n",
       "      <td>1.000000</td>\n",
       "      <td>-0.147597</td>\n",
       "      <td>-0.192119</td>\n",
       "      <td>-0.167402</td>\n",
       "      <td>-0.117432</td>\n",
       "    </tr>\n",
       "    <tr>\n",
       "      <th>group_B</th>\n",
       "      <td>-0.000840</td>\n",
       "      <td>-0.005141</td>\n",
       "      <td>0.000390</td>\n",
       "      <td>0.005398</td>\n",
       "      <td>-0.094037</td>\n",
       "      <td>-0.069419</td>\n",
       "      <td>-0.082608</td>\n",
       "      <td>-0.147597</td>\n",
       "      <td>1.000000</td>\n",
       "      <td>-0.348722</td>\n",
       "      <td>-0.303857</td>\n",
       "      <td>-0.213155</td>\n",
       "    </tr>\n",
       "    <tr>\n",
       "      <th>group_C</th>\n",
       "      <td>0.011448</td>\n",
       "      <td>0.004311</td>\n",
       "      <td>0.009407</td>\n",
       "      <td>-0.004589</td>\n",
       "      <td>-0.088955</td>\n",
       "      <td>-0.051896</td>\n",
       "      <td>-0.071706</td>\n",
       "      <td>-0.192119</td>\n",
       "      <td>-0.348722</td>\n",
       "      <td>1.000000</td>\n",
       "      <td>-0.395513</td>\n",
       "      <td>-0.277451</td>\n",
       "    </tr>\n",
       "    <tr>\n",
       "      <th>group_D</th>\n",
       "      <td>0.000938</td>\n",
       "      <td>0.014033</td>\n",
       "      <td>-0.004848</td>\n",
       "      <td>0.014522</td>\n",
       "      <td>0.036528</td>\n",
       "      <td>0.042453</td>\n",
       "      <td>0.097798</td>\n",
       "      <td>-0.167402</td>\n",
       "      <td>-0.303857</td>\n",
       "      <td>-0.395513</td>\n",
       "      <td>1.000000</td>\n",
       "      <td>-0.241755</td>\n",
       "    </tr>\n",
       "    <tr>\n",
       "      <th>group_E</th>\n",
       "      <td>-0.008203</td>\n",
       "      <td>-0.005817</td>\n",
       "      <td>-0.000393</td>\n",
       "      <td>-0.013566</td>\n",
       "      <td>0.226490</td>\n",
       "      <td>0.126390</td>\n",
       "      <td>0.104326</td>\n",
       "      <td>-0.117432</td>\n",
       "      <td>-0.213155</td>\n",
       "      <td>-0.277451</td>\n",
       "      <td>-0.241755</td>\n",
       "      <td>1.000000</td>\n",
       "    </tr>\n",
       "  </tbody>\n",
       "</table>\n",
       "</div>"
      ],
      "text/plain": [
       "              gender  parent_edu  fr_lunch  test_prep      math   reading  \\\n",
       "gender      1.000000    0.008840 -0.006814  -0.009507  0.159589 -0.239161   \n",
       "parent_edu  0.008840    1.000000 -0.007483  -0.007229  0.201492  0.193322   \n",
       "fr_lunch   -0.006814   -0.007483  1.000000  -0.002657 -0.385709 -0.272220   \n",
       "test_prep  -0.009507   -0.007229 -0.002657   1.000000  0.147303  0.219303   \n",
       "math        0.159589    0.201492 -0.385709   0.147303  1.000000  0.819805   \n",
       "reading    -0.239161    0.193322 -0.272220   0.219303  0.819805  1.000000   \n",
       "writing    -0.294359    0.227020 -0.288999   0.301842  0.808001  0.953011   \n",
       "group_A    -0.009416   -0.015085 -0.008583  -0.006222 -0.060994 -0.040382   \n",
       "group_B    -0.000840   -0.005141  0.000390   0.005398 -0.094037 -0.069419   \n",
       "group_C     0.011448    0.004311  0.009407  -0.004589 -0.088955 -0.051896   \n",
       "group_D     0.000938    0.014033 -0.004848   0.014522  0.036528  0.042453   \n",
       "group_E    -0.008203   -0.005817 -0.000393  -0.013566  0.226490  0.126390   \n",
       "\n",
       "             writing   group_A   group_B   group_C   group_D   group_E  \n",
       "gender     -0.294359 -0.009416 -0.000840  0.011448  0.000938 -0.008203  \n",
       "parent_edu  0.227020 -0.015085 -0.005141  0.004311  0.014033 -0.005817  \n",
       "fr_lunch   -0.288999 -0.008583  0.000390  0.009407 -0.004848 -0.000393  \n",
       "test_prep   0.301842 -0.006222  0.005398 -0.004589  0.014522 -0.013566  \n",
       "math        0.808001 -0.060994 -0.094037 -0.088955  0.036528  0.226490  \n",
       "reading     0.953011 -0.040382 -0.069419 -0.051896  0.042453  0.126390  \n",
       "writing     1.000000 -0.047323 -0.082608 -0.071706  0.097798  0.104326  \n",
       "group_A    -0.047323  1.000000 -0.147597 -0.192119 -0.167402 -0.117432  \n",
       "group_B    -0.082608 -0.147597  1.000000 -0.348722 -0.303857 -0.213155  \n",
       "group_C    -0.071706 -0.192119 -0.348722  1.000000 -0.395513 -0.277451  \n",
       "group_D     0.097798 -0.167402 -0.303857 -0.395513  1.000000 -0.241755  \n",
       "group_E     0.104326 -0.117432 -0.213155 -0.277451 -0.241755  1.000000  "
      ]
     },
     "execution_count": 12,
     "metadata": {},
     "output_type": "execute_result"
    }
   ],
   "source": [
    "dff.corr()"
   ]
  },
  {
   "cell_type": "code",
   "execution_count": 13,
   "metadata": {},
   "outputs": [
    {
     "data": {
      "text/plain": [
       "<matplotlib.axes._subplots.AxesSubplot at 0x7f9a919ef0f0>"
      ]
     },
     "execution_count": 13,
     "metadata": {},
     "output_type": "execute_result"
    },
    {
     "data": {
      "image/png": "[encoded data removed]",
      "text/plain": [
       "<Figure size 864x864 with 2 Axes>"
      ]
     },
     "metadata": {
      "needs_background": "light"
     },
     "output_type": "display_data"
    }
   ],
   "source": [
    "plt.figure(figsize=(12,12))\n",
    "sns.heatmap(dff.corr())"
   ]
  },
  {
   "cell_type": "markdown",
   "metadata": {},
   "source": [
    "## Math Scores vs. Reading Scores"
   ]
  },
  {
   "cell_type": "code",
   "execution_count": 14,
   "metadata": {},
   "outputs": [
    {
     "data": {
      "image/png": "[encoded data removed]",
      "text/plain": [
       "<Figure size 432x432 with 1 Axes>"
      ]
     },
     "metadata": {
      "needs_background": "light"
     },
     "output_type": "display_data"
    }
   ],
   "source": [
    "sns.lmplot(x='reading', y='math', hue='gender', data=dff, height=6, legend=False)\n",
    "plt.title('Math vs Reading Scores by Gender', size=20)\n",
    "plt.xlim(0, 100)\n",
    "plt.ylim(0, 100)\n",
    "plt.xlabel('Reading Score')\n",
    "plt.ylabel('Math Score')\n",
    "patch1 = mpatches.Patch(color='xkcd:cerulean', label='Female')\n",
    "patch2 = mpatches.Patch(color='orange', label='Male')\n",
    "plt.legend(handles=[patch1, patch2])\n",
    "plt.show()"
   ]
  },
  {
   "cell_type": "markdown",
   "metadata": {},
   "source": [
    "## Creating Predictive Model for Math Score (not using other scores)"
   ]
  },
  {
   "cell_type": "code",
   "execution_count": 15,
   "metadata": {},
   "outputs": [],
   "source": [
    "y = dff['math']\n",
    "X = dff.drop(['math', 'reading', 'writing'], axis=1)"
   ]
  },
  {
   "cell_type": "code",
   "execution_count": 16,
   "metadata": {},
   "outputs": [
    {
     "name": "stdout",
     "output_type": "stream",
     "text": [
      "R-squared Value\n",
      "0.2961281818606438\n",
      "\n",
      "\n",
      "--Average Cross Validation Score--\n",
      "0.29413118172005304\n",
      "\n",
      "\n",
      "--Runtime: 0.026340246200561523 seconds--\n"
     ]
    }
   ],
   "source": [
    "# Linear Model\n",
    "\n",
    "regr = linear_model.LinearRegression()\n",
    "time1 = time.time()\n",
    "regr.fit(X, y)\n",
    "\n",
    "print('R-squared Value')\n",
    "print(regr.score(X, y))\n",
    "\n",
    "kf = KFold(n_splits=5)\n",
    "kf.get_n_splits(X)\n",
    "\n",
    "X_train, X_test, y_train, y_test = train_test_split(X, y, test_size=0.2)\n",
    "\n",
    "scores = []\n",
    "for train, test in kf.split(X):\n",
    "    regr.fit(X.iloc[train], y.iloc[train])\n",
    "    scores.append(regr.score(X.iloc[test], y.iloc[test]))\n",
    "    \n",
    "print('\\n')\n",
    "print('--Average Cross Validation Score--')\n",
    "print(np.mean(scores))\n",
    "print('\\n')\n",
    "print('--Runtime: %s seconds--' % (time.time() - time1))"
   ]
  },
  {
   "cell_type": "code",
   "execution_count": 17,
   "metadata": {},
   "outputs": [
    {
     "name": "stdout",
     "output_type": "stream",
     "text": [
      "R-squared Value\n",
      "0.30440460990178053\n",
      "\n",
      "\n",
      "--Average Cross Validation Score--\n",
      "0.2856107204940178\n",
      "\n",
      "\n",
      "--Runtime: 15.926248788833618 seconds--\n"
     ]
    }
   ],
   "source": [
    "# Gradient-boosting Model\n",
    "\n",
    "time1 = time.time()\n",
    "params = {'n_estimators': 1000, 'max_depth': 4, 'min_samples_split': 2,\n",
    "          'learning_rate': 0.01, 'loss': 'ls'}\n",
    "clf = ensemble.GradientBoostingRegressor(**params)\n",
    "\n",
    "clf.fit(X_train, y_train)\n",
    "\n",
    "print('R-squared Value')\n",
    "print(clf.score(X, y))\n",
    "\n",
    "scores = []\n",
    "for train, test in kf.split(X):\n",
    "    clf.fit(X.iloc[train], y.iloc[train])\n",
    "    scores.append(clf.score(X.iloc[test], y.iloc[test]))\n",
    "    \n",
    "print('\\n')\n",
    "print('--Average Cross Validation Score--')\n",
    "print(np.mean(scores))\n",
    "print('\\n')\n",
    "print('--Runtime: %s seconds--' % (time.time() - time1))"
   ]
  },
  {
   "cell_type": "markdown",
   "metadata": {},
   "source": [
    "## Model Value\n",
    "\n",
    "These model have some value, as the R-squared value shows that a significant portion of the variance in the data has been accounted for in the models.  However, only about 30% of the variance has been accounted for, so this model should be used with caution.  "
   ]
  },
  {
   "cell_type": "markdown",
   "metadata": {},
   "source": [
    "## Creating Predictive Model for Math Score (using other scores)"
   ]
  },
  {
   "cell_type": "code",
   "execution_count": 18,
   "metadata": {},
   "outputs": [],
   "source": [
    "y = dff['math']\n",
    "X = dff.drop(['math'], axis=1)"
   ]
  },
  {
   "cell_type": "code",
   "execution_count": 19,
   "metadata": {},
   "outputs": [
    {
     "name": "stdout",
     "output_type": "stream",
     "text": [
      "R-squared Value\n",
      "0.8777961995648604\n",
      "\n",
      "\n",
      "--Average Cross Validation Score--\n",
      "0.8774444364700777\n",
      "\n",
      "\n",
      "--Runtime: 0.02947998046875 seconds--\n"
     ]
    }
   ],
   "source": [
    "# Linear Model\n",
    "\n",
    "regr = linear_model.LinearRegression()\n",
    "time1 = time.time()\n",
    "regr.fit(X, y)\n",
    "\n",
    "print('R-squared Value')\n",
    "print(regr.score(X, y))\n",
    "\n",
    "kf = KFold(n_splits=5)\n",
    "kf.get_n_splits(X)\n",
    "\n",
    "X_train, X_test, y_train, y_test = train_test_split(X, y, test_size=0.2)\n",
    "\n",
    "scores = []\n",
    "for train, test in kf.split(X):\n",
    "    regr.fit(X.iloc[train], y.iloc[train])\n",
    "    scores.append(regr.score(X.iloc[test], y.iloc[test]))\n",
    "    \n",
    "print('\\n')\n",
    "print('--Average Cross Validation Score--')\n",
    "print(np.mean(scores))\n",
    "print('\\n')\n",
    "print('--Runtime: %s seconds--' % (time.time() - time1))"
   ]
  },
  {
   "cell_type": "code",
   "execution_count": 20,
   "metadata": {},
   "outputs": [
    {
     "name": "stdout",
     "output_type": "stream",
     "text": [
      "R-squared Value\n",
      "0.8842767871228173\n",
      "\n",
      "\n",
      "--Average Cross Validation Score--\n",
      "0.8748327441477665\n",
      "\n",
      "\n",
      "--Runtime: 19.734506845474243 seconds--\n"
     ]
    }
   ],
   "source": [
    "# Gradient-boosting Model\n",
    "\n",
    "time1 = time.time()\n",
    "params = {'n_estimators': 1000, 'max_depth': 4, 'min_samples_split': 2,\n",
    "          'learning_rate': 0.01, 'loss': 'ls'}\n",
    "clf = ensemble.GradientBoostingRegressor(**params)\n",
    "\n",
    "clf.fit(X_train, y_train)\n",
    "\n",
    "print('R-squared Value')\n",
    "print(clf.score(X, y))\n",
    "\n",
    "scores = []\n",
    "for train, test in kf.split(X):\n",
    "    clf.fit(X.iloc[train], y.iloc[train])\n",
    "    scores.append(clf.score(X.iloc[test], y.iloc[test]))\n",
    "    \n",
    "print('\\n')\n",
    "print('--Average Cross Validation Score--')\n",
    "print(np.mean(scores))\n",
    "print('\\n')\n",
    "print('--Runtime: %s seconds--' % (time.time() - time1))"
   ]
  },
  {
   "cell_type": "markdown",
   "metadata": {},
   "source": [
    "## Model Value\n",
    "\n",
    "These models are able to account for most of the variance in the data (88%).  However, they use the test scores from the other subjects, which could be problematic.  The scores from the other subject areas might not be available.  Ideally, more variables could be created from additional data that is available to the schools and those supporteing students, so that better identification of at risk students could be possible without relying on test scores that might not yet be available.\n",
    "\n",
    "Of the two types of models I tried, the linear regression model is better for a couple of reasons.  The models show similar accuracy, but the R-squared value for linear model is slightly more consistent in cross-validation.  More importantly, the linear model trains about 50 times as fast."
   ]
  }
 ],
 "metadata": {
  "kernelspec": {
   "display_name": "Python 3",
   "language": "python",
   "name": "python3"
  },
  "language_info": {
   "codemirror_mode": {
    "name": "ipython",
    "version": 3
   },
   "file_extension": ".py",
   "mimetype": "text/x-python",
   "name": "python",
   "nbconvert_exporter": "python",
   "pygments_lexer": "ipython3",
   "version": "3.7.2"
  }
 },
 "nbformat": 4,
 "nbformat_minor": 2
}
